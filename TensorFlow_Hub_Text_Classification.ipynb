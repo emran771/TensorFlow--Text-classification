{
  "nbformat": 4,
  "nbformat_minor": 0,
  "metadata": {
    "colab": {
      "provenance": [],
      "gpuType": "T4"
    },
    "kernelspec": {
      "name": "python3",
      "display_name": "Python 3"
    },
    "language_info": {
      "name": "python"
    },
    "accelerator": "GPU"
  },
  "cells": [
    {
      "cell_type": "markdown",
      "source": [
        "# TensorFlow Hub - Text Classification"
      ],
      "metadata": {
        "id": "ZGMZ3qiHxuWh"
      }
    },
    {
      "cell_type": "markdown",
      "source": [
        "# Importing the libraries"
      ],
      "metadata": {
        "id": "EFv48B_13gmb"
      }
    },
    {
      "cell_type": "code",
      "execution_count": 31,
      "metadata": {
        "colab": {
          "base_uri": "https://localhost:8080/"
        },
        "id": "ZeHErw8CxcWE",
        "outputId": "49fc5d5d-6677-4ae6-a1de-9f29a73bb8b6"
      },
      "outputs": [
        {
          "output_type": "stream",
          "name": "stdout",
          "text": [
            "TensorFlow version: 2.15.0\n",
            "TensorFlow Hub version: 0.16.1\n"
          ]
        }
      ],
      "source": [
        "import numpy as np\n",
        "import tensorflow as tf\n",
        "import tensorflow_hub as hub\n",
        "import tensorflow_datasets as tfds\n",
        "print(\"TensorFlow version:\", tf.__version__)\n",
        "print(\"TensorFlow Hub version:\", hub.__version__)"
      ]
    },
    {
      "cell_type": "code",
      "source": [],
      "metadata": {
        "id": "U7XXiN4kxmnk"
      },
      "execution_count": 31,
      "outputs": []
    },
    {
      "cell_type": "markdown",
      "source": [
        "# Dataset"
      ],
      "metadata": {
        "id": "_-MIDobQzuVS"
      }
    },
    {
      "cell_type": "markdown",
      "source": [
        " ####  Extracted from imbd: 0 - negative, 1 - positive"
      ],
      "metadata": {
        "id": "Wmiz_hFl3Qcq"
      }
    },
    {
      "cell_type": "code",
      "source": [
        "train_data, test_data = tfds.load(name = 'imdb_reviews', split =['train', 'test'], batch_size=-1, as_supervised=True)\n",
        "X_train, y_train = tfds.as_numpy(train_data)\n",
        "X_test, y_test = tfds.as_numpy(test_data)\n",
        "# name = \"imbd_reviews\" --> imbd is a famous website that presents a lot of moive reviews\n",
        "# batch_size=-1 --> to not consider the data set in batches\n",
        "# as_supervised=True --> because we want to get the texts and corresponding labels"
      ],
      "metadata": {
        "id": "GBT7omKGzwFL"
      },
      "execution_count": 32,
      "outputs": []
    },
    {
      "cell_type": "code",
      "source": [
        "print(X_train.shape)\n",
        "print(y_train.shape)\n",
        "print(X_test.shape)\n",
        "print(y_test.shape)"
      ],
      "metadata": {
        "colab": {
          "base_uri": "https://localhost:8080/"
        },
        "id": "4sG5NS204Agr",
        "outputId": "053af32b-6ae0-4e00-b9e0-8cae5e229133"
      },
      "execution_count": 33,
      "outputs": [
        {
          "output_type": "stream",
          "name": "stdout",
          "text": [
            "(25000,)\n",
            "(25000,)\n",
            "(25000,)\n",
            "(25000,)\n"
          ]
        }
      ]
    },
    {
      "cell_type": "code",
      "source": [
        "X_train[0:2]"
      ],
      "metadata": {
        "colab": {
          "base_uri": "https://localhost:8080/"
        },
        "id": "nwIFqViT5gxL",
        "outputId": "53f81fc3-44aa-4589-dd32-e5c9b3db2284"
      },
      "execution_count": 34,
      "outputs": [
        {
          "output_type": "execute_result",
          "data": {
            "text/plain": [
              "array([b\"This was an absolutely terrible movie. Don't be lured in by Christopher Walken or Michael Ironside. Both are great actors, but this must simply be their worst role in history. Even their great acting could not redeem this movie's ridiculous storyline. This movie is an early nineties US propaganda piece. The most pathetic scenes were those when the Columbian rebels were making their cases for revolutions. Maria Conchita Alonso appeared phony, and her pseudo-love affair with Walken was nothing but a pathetic emotional plug in a movie that was devoid of any real meaning. I am disappointed that there are movies like this, ruining actor's like Christopher Walken's good name. I could barely sit through it.\",\n",
              "       b'I have been known to fall asleep during films, but this is usually due to a combination of things including, really tired, being warm and comfortable on the sette and having just eaten a lot. However on this occasion I fell asleep because the film was rubbish. The plot development was constant. Constantly slow and boring. Things seemed to happen, but with no explanation of what was causing them or why. I admit, I may have missed part of the film, but i watched the majority of it and everything just seemed to happen of its own accord without any real concern for anything else. I cant recommend this film at all.'],\n",
              "      dtype=object)"
            ]
          },
          "metadata": {},
          "execution_count": 34
        }
      ]
    },
    {
      "cell_type": "code",
      "source": [
        "y_train[0:2]\n",
        "# which means they are negative reviews"
      ],
      "metadata": {
        "colab": {
          "base_uri": "https://localhost:8080/"
        },
        "id": "jc6bBnQS6QVK",
        "outputId": "82da7021-bb33-467b-bca3-b292aa1ddcc2"
      },
      "execution_count": 35,
      "outputs": [
        {
          "output_type": "execute_result",
          "data": {
            "text/plain": [
              "array([0, 0])"
            ]
          },
          "metadata": {},
          "execution_count": 35
        }
      ]
    },
    {
      "cell_type": "code",
      "source": [
        "X_test[0:2]"
      ],
      "metadata": {
        "colab": {
          "base_uri": "https://localhost:8080/"
        },
        "id": "JYDXyZ3-6bWi",
        "outputId": "87c3d1ab-871e-4075-8c48-ff942729c90c"
      },
      "execution_count": 36,
      "outputs": [
        {
          "output_type": "execute_result",
          "data": {
            "text/plain": [
              "array([b\"There are films that make careers. For George Romero, it was NIGHT OF THE LIVING DEAD; for Kevin Smith, CLERKS; for Robert Rodriguez, EL MARIACHI. Add to that list Onur Tukel's absolutely amazing DING-A-LING-LESS. Flawless film-making, and as assured and as professional as any of the aforementioned movies. I haven't laughed this hard since I saw THE FULL MONTY. (And, even then, I don't think I laughed quite this hard... So to speak.) Tukel's talent is considerable: DING-A-LING-LESS is so chock full of double entendres that one would have to sit down with a copy of this script and do a line-by-line examination of it to fully appreciate the, uh, breadth and width of it. Every shot is beautifully composed (a clear sign of a sure-handed director), and the performances all around are solid (there's none of the over-the-top scenery chewing one might've expected from a film like this). DING-A-LING-LESS is a film whose time has come.\",\n",
              "       b\"A blackly comic tale of a down-trodden priest, Nazarin showcases the economy that Luis Bunuel was able to achieve in being able to tell a deeply humanist fable with a minimum of fuss. As an output from his Mexican era of film making, it was an invaluable talent to possess, with little money and extremely tight schedules. Nazarin, however, surpasses many of Bunuel's previous Mexican films in terms of the acting (Francisco Rabal is excellent), narrative and theme.<br /><br />The theme, interestingly, is something that was explored again in Viridiana, made three years later in Spain. It concerns the individual's struggle for humanity and altruism amongst a society that rejects any notion of virtue. Father Nazarin, however, is portrayed more sympathetically than Sister Viridiana. Whereas the latter seems to choose charity because she wishes to atone for her (perceived) sins, Nazarin's whole existence and reason for being seems to be to help others, whether they (or we) like it or not. The film's last scenes, in which he casts doubt on his behaviour and, in a split second, has to choose between the life he has been leading or the conventional life that is expected of a priest, are so emotional because they concern his moral integrity and we are never quite sure whether it remains intact or not.<br /><br />This is a remarkable film and I would urge anyone interested in classic cinema to seek it out. It is one of Bunuel's most moving films, and encapsulates many of his obsessions: frustrated desire, mad love, religious hypocrisy etc. In my view 'Nazarin' is second only to 'The Exterminating Angel', in terms of his Mexican movies, and is certainly near the top of the list of Bunuel's total filmic output.\"],\n",
              "      dtype=object)"
            ]
          },
          "metadata": {},
          "execution_count": 36
        }
      ]
    },
    {
      "cell_type": "code",
      "source": [
        "y_test[0:2]\n",
        "# which means they are both positive"
      ],
      "metadata": {
        "colab": {
          "base_uri": "https://localhost:8080/"
        },
        "id": "sZwUs15_6506",
        "outputId": "eaa5cf29-54c3-4965-fafe-320cfc64b7a4"
      },
      "execution_count": 37,
      "outputs": [
        {
          "output_type": "execute_result",
          "data": {
            "text/plain": [
              "array([1, 1])"
            ]
          },
          "metadata": {},
          "execution_count": 37
        }
      ]
    },
    {
      "cell_type": "code",
      "source": [
        "np.unique(y_train, return_counts = True)"
      ],
      "metadata": {
        "colab": {
          "base_uri": "https://localhost:8080/"
        },
        "id": "lY_ehX-S69XS",
        "outputId": "f27b7138-af4c-4ee3-e8cf-417710379c45"
      },
      "execution_count": 38,
      "outputs": [
        {
          "output_type": "execute_result",
          "data": {
            "text/plain": [
              "(array([0, 1]), array([12500, 12500]))"
            ]
          },
          "metadata": {},
          "execution_count": 38
        }
      ]
    },
    {
      "cell_type": "code",
      "source": [
        "np.unique(y_test, return_counts = True)"
      ],
      "metadata": {
        "colab": {
          "base_uri": "https://localhost:8080/"
        },
        "id": "Zi0PemRD7flq",
        "outputId": "b80cc2ae-6c02-43b0-dc13-35d028abe1b2"
      },
      "execution_count": 39,
      "outputs": [
        {
          "output_type": "execute_result",
          "data": {
            "text/plain": [
              "(array([0, 1]), array([12500, 12500]))"
            ]
          },
          "metadata": {},
          "execution_count": 39
        }
      ]
    },
    {
      "cell_type": "code",
      "source": [],
      "metadata": {
        "id": "o4bYo2fA7nyK"
      },
      "execution_count": 39,
      "outputs": []
    },
    {
      "cell_type": "markdown",
      "source": [
        "# Building and training the neural network"
      ],
      "metadata": {
        "id": "TsWI6hQg7vIH"
      }
    },
    {
      "cell_type": "code",
      "source": [
        "# a custom model\n",
        "# embedding --> it will convert text to numbers\n",
        "model_path = 'https://tfhub.dev/google/nnlm-en-dim50/2'"
      ],
      "metadata": {
        "id": "wpwSUMFs70Ci"
      },
      "execution_count": 40,
      "outputs": []
    },
    {
      "cell_type": "code",
      "source": [
        "embedding_layer = hub.KerasLayer(model_path, input_shape = [], dtype = tf.string, trainable = True)\n"
      ],
      "metadata": {
        "id": "jkxwuFPZavCq"
      },
      "execution_count": 41,
      "outputs": []
    },
    {
      "cell_type": "code",
      "source": [
        "embedding_layer(X_train[0:2])"
      ],
      "metadata": {
        "colab": {
          "base_uri": "https://localhost:8080/"
        },
        "id": "oWH8yiZ0bOVa",
        "outputId": "2eae7471-b9ea-47b7-e448-1cafef09288f"
      },
      "execution_count": 42,
      "outputs": [
        {
          "output_type": "execute_result",
          "data": {
            "text/plain": [
              "<tf.Tensor: shape=(2, 50), dtype=float32, numpy=\n",
              "array([[ 0.5423194 , -0.01190171,  0.06337537,  0.0686297 , -0.16776839,\n",
              "        -0.10581177,  0.168653  , -0.04998823, -0.31148052,  0.07910344,\n",
              "         0.15442258,  0.01488661,  0.03930155,  0.19772716, -0.12215477,\n",
              "        -0.04120982, -0.27041087, -0.21922147,  0.26517656, -0.80739075,\n",
              "         0.25833526, -0.31004202,  0.2868321 ,  0.19433866, -0.29036498,\n",
              "         0.0386285 , -0.78444123, -0.04793238,  0.41102988, -0.36388886,\n",
              "        -0.58034706,  0.30269453,  0.36308962, -0.15227163, -0.4439151 ,\n",
              "         0.19462997,  0.19528405,  0.05666233,  0.2890704 , -0.28468323,\n",
              "        -0.00531206,  0.0571938 , -0.3201319 , -0.04418665, -0.08550781,\n",
              "        -0.55847436, -0.2333639 , -0.20782956, -0.03543065, -0.17533456],\n",
              "       [ 0.56338924, -0.12339553, -0.10862677,  0.7753425 , -0.07667087,\n",
              "        -0.15752274,  0.01872334, -0.08169781, -0.3521876 ,  0.46373403,\n",
              "        -0.08492758,  0.07166861, -0.00670818,  0.12686071, -0.19326551,\n",
              "        -0.5262643 , -0.32958236,  0.14394784,  0.09043556, -0.54175544,\n",
              "         0.02468163, -0.15456744,  0.68333143,  0.09068333, -0.45327246,\n",
              "         0.23180094, -0.8615696 ,  0.3448039 ,  0.12838459, -0.58759046,\n",
              "        -0.40712303,  0.23061076,  0.48426905, -0.2712814 , -0.5380918 ,\n",
              "         0.47016335,  0.2257274 , -0.00830665,  0.28462422, -0.30498496,\n",
              "         0.04400366,  0.25025868,  0.14867125,  0.4071703 , -0.15422425,\n",
              "        -0.06878027, -0.40825695, -0.31492147,  0.09283663, -0.20183429]],\n",
              "      dtype=float32)>"
            ]
          },
          "metadata": {},
          "execution_count": 42
        }
      ]
    },
    {
      "cell_type": "code",
      "source": [
        "model = tf.keras.Sequential()\n",
        "model.add(embedding_layer)\n",
        "model.add(tf.keras.layers.Dense(units = 16, activation = 'relu'))\n",
        "model.add(tf.keras.layers.Dense(units = 1))\n",
        "model.summary()"
      ],
      "metadata": {
        "colab": {
          "base_uri": "https://localhost:8080/"
        },
        "id": "_D6DoW5Gb7op",
        "outputId": "b2f851c4-00d2-4966-f0f3-07c79459942c"
      },
      "execution_count": 43,
      "outputs": [
        {
          "output_type": "stream",
          "name": "stdout",
          "text": [
            "Model: \"sequential_1\"\n",
            "_________________________________________________________________\n",
            " Layer (type)                Output Shape              Param #   \n",
            "=================================================================\n",
            " keras_layer_1 (KerasLayer)  (None, 50)                48190600  \n",
            "                                                                 \n",
            " dense_2 (Dense)             (None, 16)                816       \n",
            "                                                                 \n",
            " dense_3 (Dense)             (None, 1)                 17        \n",
            "                                                                 \n",
            "=================================================================\n",
            "Total params: 48191433 (183.84 MB)\n",
            "Trainable params: 48191433 (183.84 MB)\n",
            "Non-trainable params: 0 (0.00 Byte)\n",
            "_________________________________________________________________\n"
          ]
        }
      ]
    },
    {
      "cell_type": "code",
      "source": [
        "model.compile(optimizer = 'adam', loss = tf.losses.BinaryCrossentropy(from_logits = True), metrics=['accuracy'])"
      ],
      "metadata": {
        "id": "8GhMsa5wiYoA"
      },
      "execution_count": 44,
      "outputs": []
    },
    {
      "cell_type": "code",
      "source": [
        "model.fit(X_train, y_train, epochs = 20, batch_size = 512, verbose = 1) # verbose -> to see the results while training"
      ],
      "metadata": {
        "colab": {
          "base_uri": "https://localhost:8080/"
        },
        "id": "2i2pJMYQjGfZ",
        "outputId": "261bb3c0-d1c8-44b0-bd85-c1d8a1f64583"
      },
      "execution_count": 45,
      "outputs": [
        {
          "output_type": "stream",
          "name": "stdout",
          "text": [
            "Epoch 1/20\n",
            "49/49 [==============================] - 16s 269ms/step - loss: 0.6480 - accuracy: 0.5356\n",
            "Epoch 2/20\n",
            "49/49 [==============================] - 7s 142ms/step - loss: 0.4679 - accuracy: 0.7731\n",
            "Epoch 3/20\n",
            "49/49 [==============================] - 8s 155ms/step - loss: 0.3023 - accuracy: 0.8811\n",
            "Epoch 4/20\n",
            "49/49 [==============================] - 6s 120ms/step - loss: 0.2106 - accuracy: 0.9203\n",
            "Epoch 5/20\n",
            "49/49 [==============================] - 7s 138ms/step - loss: 0.1505 - accuracy: 0.9480\n",
            "Epoch 6/20\n",
            "49/49 [==============================] - 7s 136ms/step - loss: 0.1071 - accuracy: 0.9665\n",
            "Epoch 7/20\n",
            "49/49 [==============================] - 6s 129ms/step - loss: 0.0752 - accuracy: 0.9795\n",
            "Epoch 8/20\n",
            "49/49 [==============================] - 7s 145ms/step - loss: 0.0526 - accuracy: 0.9883\n",
            "Epoch 9/20\n",
            "49/49 [==============================] - 6s 125ms/step - loss: 0.0364 - accuracy: 0.9939\n",
            "Epoch 10/20\n",
            "49/49 [==============================] - 6s 131ms/step - loss: 0.0258 - accuracy: 0.9970\n",
            "Epoch 11/20\n",
            "49/49 [==============================] - 6s 124ms/step - loss: 0.0180 - accuracy: 0.9989\n",
            "Epoch 12/20\n",
            "49/49 [==============================] - 6s 124ms/step - loss: 0.0134 - accuracy: 0.9995\n",
            "Epoch 13/20\n",
            "49/49 [==============================] - 6s 118ms/step - loss: 0.0100 - accuracy: 0.9996\n",
            "Epoch 14/20\n",
            "49/49 [==============================] - 5s 100ms/step - loss: 0.0078 - accuracy: 0.9998\n",
            "Epoch 15/20\n",
            "49/49 [==============================] - 5s 95ms/step - loss: 0.0061 - accuracy: 0.9999\n",
            "Epoch 16/20\n",
            "49/49 [==============================] - 6s 115ms/step - loss: 0.0048 - accuracy: 0.9999\n",
            "Epoch 17/20\n",
            "49/49 [==============================] - 7s 129ms/step - loss: 0.0039 - accuracy: 0.9999\n",
            "Epoch 18/20\n",
            "49/49 [==============================] - 5s 111ms/step - loss: 0.0032 - accuracy: 1.0000\n",
            "Epoch 19/20\n",
            "49/49 [==============================] - 6s 111ms/step - loss: 0.0027 - accuracy: 1.0000\n",
            "Epoch 20/20\n",
            "49/49 [==============================] - 5s 111ms/step - loss: 0.0023 - accuracy: 1.0000\n"
          ]
        },
        {
          "output_type": "execute_result",
          "data": {
            "text/plain": [
              "<keras.src.callbacks.History at 0x7a7962d360e0>"
            ]
          },
          "metadata": {},
          "execution_count": 45
        }
      ]
    },
    {
      "cell_type": "code",
      "source": [
        "results = model.evaluate(X_test, y_test)\n",
        "print(results)"
      ],
      "metadata": {
        "colab": {
          "base_uri": "https://localhost:8080/"
        },
        "id": "0ax7t3ZimCVl",
        "outputId": "630f570e-24b0-40b7-b879-6be5d2d25e54"
      },
      "execution_count": 46,
      "outputs": [
        {
          "output_type": "stream",
          "name": "stdout",
          "text": [
            "782/782 [==============================] - 4s 5ms/step - loss: 0.5774 - accuracy: 0.8497\n",
            "[0.5773702263832092, 0.8496800065040588]\n"
          ]
        }
      ]
    },
    {
      "cell_type": "code",
      "source": [],
      "metadata": {
        "id": "7Mw57F0JmL6h"
      },
      "execution_count": 46,
      "outputs": []
    },
    {
      "cell_type": "markdown",
      "source": [
        "# Predictions"
      ],
      "metadata": {
        "id": "H00gQFyAmbIO"
      }
    },
    {
      "cell_type": "code",
      "source": [
        "X_test[0:6]"
      ],
      "metadata": {
        "colab": {
          "base_uri": "https://localhost:8080/"
        },
        "id": "qWx7t4qAmdJQ",
        "outputId": "ae14ac2c-f715-4afa-ebd9-1bce56579a0a"
      },
      "execution_count": 47,
      "outputs": [
        {
          "output_type": "execute_result",
          "data": {
            "text/plain": [
              "array([b\"There are films that make careers. For George Romero, it was NIGHT OF THE LIVING DEAD; for Kevin Smith, CLERKS; for Robert Rodriguez, EL MARIACHI. Add to that list Onur Tukel's absolutely amazing DING-A-LING-LESS. Flawless film-making, and as assured and as professional as any of the aforementioned movies. I haven't laughed this hard since I saw THE FULL MONTY. (And, even then, I don't think I laughed quite this hard... So to speak.) Tukel's talent is considerable: DING-A-LING-LESS is so chock full of double entendres that one would have to sit down with a copy of this script and do a line-by-line examination of it to fully appreciate the, uh, breadth and width of it. Every shot is beautifully composed (a clear sign of a sure-handed director), and the performances all around are solid (there's none of the over-the-top scenery chewing one might've expected from a film like this). DING-A-LING-LESS is a film whose time has come.\",\n",
              "       b\"A blackly comic tale of a down-trodden priest, Nazarin showcases the economy that Luis Bunuel was able to achieve in being able to tell a deeply humanist fable with a minimum of fuss. As an output from his Mexican era of film making, it was an invaluable talent to possess, with little money and extremely tight schedules. Nazarin, however, surpasses many of Bunuel's previous Mexican films in terms of the acting (Francisco Rabal is excellent), narrative and theme.<br /><br />The theme, interestingly, is something that was explored again in Viridiana, made three years later in Spain. It concerns the individual's struggle for humanity and altruism amongst a society that rejects any notion of virtue. Father Nazarin, however, is portrayed more sympathetically than Sister Viridiana. Whereas the latter seems to choose charity because she wishes to atone for her (perceived) sins, Nazarin's whole existence and reason for being seems to be to help others, whether they (or we) like it or not. The film's last scenes, in which he casts doubt on his behaviour and, in a split second, has to choose between the life he has been leading or the conventional life that is expected of a priest, are so emotional because they concern his moral integrity and we are never quite sure whether it remains intact or not.<br /><br />This is a remarkable film and I would urge anyone interested in classic cinema to seek it out. It is one of Bunuel's most moving films, and encapsulates many of his obsessions: frustrated desire, mad love, religious hypocrisy etc. In my view 'Nazarin' is second only to 'The Exterminating Angel', in terms of his Mexican movies, and is certainly near the top of the list of Bunuel's total filmic output.\",\n",
              "       b'Scary Movie 1-4, Epic Movie, Date Movie, Meet the Spartans, Not another Teen Movie and Another Gay Movie. Making \"Superhero Movie\" the eleventh in a series that single handily ruined the parody genre. Now I\\'ll admit it I have a soft spot for classics such as Airplane and The Naked Gun but you know you\\'ve milked a franchise so bad when you can see the gags a mile off. In fact the only thing that might really temp you into going to see this disaster is the incredibly funny but massive sell-out Leslie Neilson.<br /><br />You can tell he needs the money, wither that or he intends to go down with the ship like a good Capitan would. In no way is he bringing down this genre but hell he\\'s not helping it. But if I feel sorry for anybody in this film its decent actor Drake Bell who is put through an immense amount of embarrassment. The people who are put through the largest amount of torture by far however is the audience forced to sit through 90 minutes of laughless bile no funnier than herpes.<br /><br />After spoofing disaster films in Airplane!, police shows in The Naked Gun, and Hollywood horrors in Scary Movie 3 and 4, producer David Zucker sets his satirical sights on the superhero genre with this anarchic comedy lampooning everything from Spider-Man to X-Men and Superman Returns.<br /><br />Shortly after being bitten by a genetically altered dragonfly, high-school outcast Rick Riker (Drake Bell) begins to experience a startling transformation. Now Rick\\'s skin is as strong as steel, and he possesses the strength of ten men. Determined to use his newfound powers to fight crime, Rick creates a special costume and assumes the identity of The Dragonfly -- a fearless crime fighter dedicated to keeping the streets safe for law-abiding citizens.<br /><br />But every superhero needs a nemesis, and after Lou Landers (Christopher McDonald) is caught in the middle of an experiment gone horribly awry, he develops the power to leech the life force out of anyone he meets and becomes the villainous Hourglass. Intent on achieving immortality, the Hourglass attempts to gather as much life force as possible as the noble Dragonfly sets out to take down his archenemy and realize his destiny as a true hero. Craig Mazin writes and directs this low-flying spoof.<br /><br />featuring Tracy Morgan, Pamela Anderson, Leslie Nielsen, Marion Ross, Jeffrey Tambor, and Regina Hall.<br /><br />Hell Superhero Movie may earn some merit in the fact that it\\'s a hell of a lot better than Meet the Spartans and Epic Movie. But with great responsibility comes one of the worst outings of 2008 to date. Laughless but a little less irritating than Meet the Spartans. And in the same sense much more forgettable than meet the Spartans. But maybe that\\'s a good reason. There are still some of us trying to scrape away the stain that was Meet the Spartans from our memory.<br /><br />My final verdict? Avoid, unless you\\'re one of thoses people who enjoy such car crash cinema. As bad as Date Movie and Scary Movie 2 but not quite as bad as Meet the Spartans or Epic Movie. Super Villain.',\n",
              "       b'Poor Shirley MacLaine tries hard to lend some gravitas to this mawkish, gag-inducing \"feel-good\" movie, but she\\'s trampled by the run-away sentimentality of a film that\\'s not the least bit grounded in reality.<br /><br />This was directed by Curtis Hanson? Did he have a lobotomy since we last heard from him? Hanson can do effective drama sprinkled with comedy, as evidenced by \"Wonder Boys.\" So I don\\'t know what happened to him here. This is the kind of movie that doesn\\'t want to accept that life is messy and fussy, and that neat, tidy endings (however implausible they might be) might make for a nice closing shot, but come across as utterly phony if the people watching the film have been through anything remotely like what the characters in the film go through.<br /><br />My wife and I made a game of calling out the plot points before they occurred -- e.g. \"the old man\\'s going to teach her to read and then drop dead.\" Bingo! This is one of those movies where the characters give little speeches summarizing their emotional problems, making you wonder why they still have emotional problems if they\\'re that aware of what\\'s causing them. Toni Collette (a fine actress, by the way, and one of my favorites if not given a lot to work with here), gives a speech early on about why she buys so many shoes and never wears them, spelling out in flashing neon the film\\'s awkward connecting motif. At that moment, I knew what I was in for, and the film was a downward spiral from there.<br /><br />Grade: C-',\n",
              "       b'As a former Erasmus student I enjoyed this film very much. It was so realistic and funny. It really picked up the spirit that exists among Erasmus students. I hope, many other students will follow this experience, too. However, I wonder if this movie is all that interesting to watch for people with no international experience. But at least one of my friends who has never gone on Erasmus also enjoyed it very much. I give it 9 out of 10.',\n",
              "       b\"My God, Ryan Gosling has made a lot of deep characters in his career, this is one of his wonderful acting jobs. For me this is a very deep movie, needs a lot of concentration, not because is difficult to watch, just because you understand it if you put your shoes in this kid, even though has everything and has famous father that is a writer, has a deeper mind, you don't understand why he kills this poor kid, until you really heard what he has to say and you start to think, at least to me, that a lot of things that he says is true. Simple kid, sweet, very gentle, in a way normal like any teenage, but inside of him suffer because he start to look at the world in a different way, then you understand why he did what he did. I recommend this movie for those who likes deep drama.\"],\n",
              "      dtype=object)"
            ]
          },
          "metadata": {},
          "execution_count": 47
        }
      ]
    },
    {
      "cell_type": "code",
      "source": [
        "y_test[0:6]"
      ],
      "metadata": {
        "colab": {
          "base_uri": "https://localhost:8080/"
        },
        "id": "aRQ0SJLnndCh",
        "outputId": "6c56f416-2571-4c63-cdb2-8dcee0c9b486"
      },
      "execution_count": 48,
      "outputs": [
        {
          "output_type": "execute_result",
          "data": {
            "text/plain": [
              "array([1, 1, 0, 0, 1, 1])"
            ]
          },
          "metadata": {},
          "execution_count": 48
        }
      ]
    },
    {
      "cell_type": "code",
      "source": [
        "predictions = model.predict(X_test[0:6])"
      ],
      "metadata": {
        "colab": {
          "base_uri": "https://localhost:8080/"
        },
        "id": "SQnt1POKnfj4",
        "outputId": "3b9d1bb3-f546-4196-d75e-50150cf5b0cf"
      },
      "execution_count": 49,
      "outputs": [
        {
          "output_type": "stream",
          "name": "stdout",
          "text": [
            "1/1 [==============================] - 0s 62ms/step\n"
          ]
        }
      ]
    },
    {
      "cell_type": "code",
      "source": [
        "predictions"
      ],
      "metadata": {
        "colab": {
          "base_uri": "https://localhost:8080/"
        },
        "id": "96NDdVIVnjDY",
        "outputId": "bb9dca6e-dda0-42ca-b92d-5587757df13b"
      },
      "execution_count": 50,
      "outputs": [
        {
          "output_type": "execute_result",
          "data": {
            "text/plain": [
              "array([[  2.5174441],\n",
              "       [  0.8525399],\n",
              "       [ -4.4115205],\n",
              "       [-10.927716 ],\n",
              "       [  8.908579 ],\n",
              "       [ 11.231491 ]], dtype=float32)"
            ]
          },
          "metadata": {},
          "execution_count": 50
        }
      ]
    },
    {
      "cell_type": "code",
      "source": [
        "predictions = tf.nn.sigmoid(predictions).numpy() # sigmoid --> will return numbers from 0 to 1 probabilities.\n",
        "predictions"
      ],
      "metadata": {
        "colab": {
          "base_uri": "https://localhost:8080/"
        },
        "id": "1F9yjAHWnkjY",
        "outputId": "7fa3722e-1f8b-4b5e-8ab2-30a0158a15a8"
      },
      "execution_count": 51,
      "outputs": [
        {
          "output_type": "execute_result",
          "data": {
            "text/plain": [
              "array([[9.2535573e-01],\n",
              "       [7.0109969e-01],\n",
              "       [1.1991177e-02],\n",
              "       [1.7953344e-05],\n",
              "       [9.9986482e-01],\n",
              "       [9.9998677e-01]], dtype=float32)"
            ]
          },
          "metadata": {},
          "execution_count": 51
        }
      ]
    },
    {
      "cell_type": "code",
      "source": [
        "y_test[0:6] # 0 - negative, 1 - positive"
      ],
      "metadata": {
        "colab": {
          "base_uri": "https://localhost:8080/"
        },
        "id": "xT3OQFC7nmxY",
        "outputId": "34f25bb8-83c8-472b-f46f-2556bd27f7b4"
      },
      "execution_count": 52,
      "outputs": [
        {
          "output_type": "execute_result",
          "data": {
            "text/plain": [
              "array([1, 1, 0, 0, 1, 1])"
            ]
          },
          "metadata": {},
          "execution_count": 52
        }
      ]
    },
    {
      "cell_type": "code",
      "source": [
        "predictions = (predictions >= 0.5)\n",
        "predictions"
      ],
      "metadata": {
        "colab": {
          "base_uri": "https://localhost:8080/"
        },
        "id": "ID6CTb6JnpYY",
        "outputId": "b09aad04-5c43-4272-c32c-04397cbee896"
      },
      "execution_count": 53,
      "outputs": [
        {
          "output_type": "execute_result",
          "data": {
            "text/plain": [
              "array([[ True],\n",
              "       [ True],\n",
              "       [False],\n",
              "       [False],\n",
              "       [ True],\n",
              "       [ True]])"
            ]
          },
          "metadata": {},
          "execution_count": 53
        }
      ]
    },
    {
      "cell_type": "code",
      "source": [],
      "metadata": {
        "id": "fgmdQHRGnrOY"
      },
      "execution_count": 53,
      "outputs": []
    }
  ]
}